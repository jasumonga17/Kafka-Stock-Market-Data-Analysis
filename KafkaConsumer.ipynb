{
 "cells": [
  {
   "cell_type": "code",
   "execution_count": 9,
   "id": "fba5c244",
   "metadata": {},
   "outputs": [],
   "source": [
    "# Importing the necesaary libraries\n",
    "from kafka import KafkaConsumer, KafkaProducer\n",
    "from time import sleep\n",
    "from json import dumps,loads\n",
    "import json"
   ]
  },
  {
   "cell_type": "code",
   "execution_count": 10,
   "id": "ee206882",
   "metadata": {},
   "outputs": [],
   "source": [
    "# Kafka Consumer\n",
    "consumer=KafkaConsumer('demo_test',\n",
    "                      bootstrap_servers=['localhost:9092'],\n",
    "                      value_deserializer=lambda x:loads(x.decode('utf-8')))"
   ]
  },
  {
   "cell_type": "code",
   "execution_count": null,
   "id": "9994c311",
   "metadata": {},
   "outputs": [],
   "source": [
    "for c in consumer:\n",
    "    print(c.value)"
   ]
  }
 ],
 "metadata": {
  "kernelspec": {
   "display_name": "Python 3 (ipykernel)",
   "language": "python",
   "name": "python3"
  },
  "language_info": {
   "codemirror_mode": {
    "name": "ipython",
    "version": 3
   },
   "file_extension": ".py",
   "mimetype": "text/x-python",
   "name": "python",
   "nbconvert_exporter": "python",
   "pygments_lexer": "ipython3",
   "version": "3.9.16"
  }
 },
 "nbformat": 4,
 "nbformat_minor": 5
}
